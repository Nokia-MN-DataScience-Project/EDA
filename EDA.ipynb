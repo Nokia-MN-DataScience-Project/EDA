{
 "cells": [
  {
   "cell_type": "code",
   "execution_count": null,
   "id": "213dad26",
   "metadata": {},
   "outputs": [],
   "source": [
    "import pandas as pd\n",
    "import numpy as np\n",
    "import matplotlib.pyplot as plt\n",
    "import seaborn as sns"
   ]
  },
  {
   "cell_type": "code",
   "execution_count": null,
   "id": "cb64824f",
   "metadata": {},
   "outputs": [],
   "source": [
    "print(\"Shape:\", df.shape)"
   ]
  },
  {
   "cell_type": "code",
   "execution_count": null,
   "id": "e05f9933",
   "metadata": {},
   "outputs": [],
   "source": [
    "print(\"Columns:\", df.columns.tolist())"
   ]
  },
  {
   "cell_type": "code",
   "execution_count": null,
   "id": "e8c307af",
   "metadata": {},
   "outputs": [],
   "source": [
    "print(\"Missingvalues\", df.isnull().sum)"
   ]
  },
  {
   "cell_type": "code",
   "execution_count": null,
   "id": "76a4c8fb",
   "metadata": {},
   "outputs": [],
   "source": [
    "print(\"Missing values (top 10):\\n\", df.isnull().sum().sort_values(ascending=False).head(10))"
   ]
  },
  {
   "cell_type": "code",
   "execution_count": null,
   "id": "fe9a3da2",
   "metadata": {},
   "outputs": [],
   "source": [
    "Targets=['DL_bitrate','UL_bitrate','PINGAVG']\n",
    "print(\"Summery Statistics for Throughput:\\n\")\n",
    "print(df[Targets].describe(percentiles=[0.01,0.25,0.5,0.75,0.99]))"
   ]
  },
  {
   "cell_type": "code",
   "execution_count": null,
   "id": "3644df14",
   "metadata": {},
   "outputs": [],
   "source": [
    "print(\"\\n% of Zero Values:\")\n",
    "print((df[Targets] == 0).sum() / len(df) * 100)"
   ]
  },
  {
   "cell_type": "code",
   "execution_count": null,
   "id": "61dd8268",
   "metadata": {},
   "outputs": [],
   "source": [
    "fig, axes = plt.subplots(1, 3, figsize=(18,5))\n",
    "for i, col in enumerate(Targets):\n",
    "    sns.histplot(df[col].dropna(), bins=50, kde=True, ax=axes[i])\n",
    "    axes[i].set_title(f\"Distribution of {col}\")\n",
    "plt.show()"
   ]
  },
  {
   "cell_type": "code",
   "execution_count": null,
   "id": "cd80530e",
   "metadata": {},
   "outputs": [],
   "source": [
    "fig, axes = plt.subplots(1, 3, figsize=(18,5))\n",
    "for i, col in enumerate(Targets):\n",
    "    sns.boxplot(x=df[col], ax=axes[i])\n",
    "    axes[i].set_title(f\"Outliers in {col}\")\n",
    "plt.show()"
   ]
  },
  {
   "cell_type": "code",
   "execution_count": null,
   "id": "01fbd65c",
   "metadata": {},
   "outputs": [],
   "source": [
    "num_cols = df.select_dtypes(include=['float64','int64']).columns\n",
    "corr_matrix = df[num_cols].corr()\n",
    "\n",
    "print(\"Correlation with Targets\")\n",
    "print(corr_matrix[Targets].sort_values(by=\"DL_bitrate\", ascending=False).head(10))"
   ]
  },
  {
   "cell_type": "code",
   "execution_count": null,
   "id": "5d0799fd",
   "metadata": {},
   "outputs": [],
   "source": [
    "num_cols = df.select_dtypes(include=['float64','int64']).columns\n",
    "corr = df[num_cols].corr()\n",
    "\n",
    "plt.figure(figsize=(12,8))\n",
    "sns.heatmap(corr[Targets].sort_values(by='DL_bitrate', ascending=False),\n",
    "            annot=True, cmap=\"coolwarm\", cbar=True)\n",
    "plt.title(\"Correlation of Features with Targets (Throughput & Latency)\")\n",
    "plt.show()"
   ]
  },
  {
   "cell_type": "code",
   "execution_count": null,
   "id": "95b618b7",
   "metadata": {},
   "outputs": [],
   "source": [
    "features_to_check = ['Level','SNR','CQI','Qual','Speed','BANDWIDTH']\n",
    "\n",
    "for col in features_to_check:\n",
    "    if col in df.columns:\n",
    "        for target in Targets:\n",
    "            plt.figure(figsize=(6,4))\n",
    "            sns.scatterplot(data=df, x=col, y=target, alpha=0.3)\n",
    "            plt.title(f\"{target} vs {col}\")\n",
    "            plt.show()"
   ]
  },
  {
   "cell_type": "code",
   "execution_count": null,
   "id": "fdc15305",
   "metadata": {},
   "outputs": [],
   "source": [
    "if 'ElapsedTime' in df.columns:\n",
    "    plt.figure(figsize=(12,6))\n",
    "    sns.lineplot(data=df, x='ElapsedTime', y='DL_bitrate', label='Downlink')\n",
    "    sns.lineplot(data=df, x='ElapsedTime', y='UL_bitrate', label='Uplink')\n",
    "    sns.lineplot(data=df, x='ElapsedTime', y='PINGAVG', label='Latency')\n",
    "    plt.title(\"Throughput & Latency Over Elapsed Time\")\n",
    "    plt.legend()\n",
    "    plt.show()\n"
   ]
  },
  {
   "cell_type": "code",
   "execution_count": null,
   "id": "29ad9c43",
   "metadata": {},
   "outputs": [],
   "source": [
    "if 'Longitude' in df.columns and 'Latitude' in df.columns:\n",
    "    plt.figure(figsize=(10,7))\n",
    "    sns.scatterplot(data=df, x='Longitude', y='Latitude',\n",
    "                    hue='DL_bitrate', palette='viridis', alpha=0.5)\n",
    "    plt.title(\"Geospatial Distribution of Downlink Throughput\")\n",
    "    plt.show()\n",
    "    plt.figure(figsize=(10,7))\n",
    "    sns.scatterplot(data=df, x='Longitude', y='Latitude',\n",
    "                    hue='PINGAVG', palette='coolwarm', alpha=0.5)\n",
    "    plt.title(\"Geospatial Distribution of Latency\")\n",
    "    plt.show()"
   ]
  },
  {
   "cell_type": "code",
   "execution_count": null,
   "id": "f986b443",
   "metadata": {},
   "outputs": [],
   "source": [
    "if 'Operatorname' in df.columns:\n",
    "    plt.figure(figsize=(10,6))\n",
    "    sns.boxplot(data=df, x='Operatorname', y='DL_bitrate')\n",
    "    plt.title(\"Downlink Throughput by Operator\")\n",
    "    plt.show()\n",
    "\n",
    "    plt.figure(figsize=(10,6))\n",
    "    sns.boxplot(data=df, x='Operatorname', y='PINGAVG')\n",
    "    plt.title(\"Latency by Operator\")\n",
    "    plt.show()\n"
   ]
  },
  {
   "cell_type": "code",
   "execution_count": null,
   "id": "a4030932",
   "metadata": {},
   "outputs": [],
   "source": [
    "if 'NetworkTech' in df.columns:\n",
    "    plt.figure(figsize=(10,6))\n",
    "    sns.boxplot(data=df, x='NetworkTech', y='DL_bitrate')\n",
    "    plt.title(\"Downlink Throughput by Network Tech\")\n",
    "    plt.show()\n",
    "\n",
    "    plt.figure(figsize=(10,6))\n",
    "    sns.boxplot(data=df, x='NetworkTech', y='PINGAVG')\n",
    "    plt.title(\"Latency by Network Tech\")\n",
    "    plt.show()\n"
   ]
  },
  {
   "cell_type": "code",
   "execution_count": null,
   "id": "238c84a9",
   "metadata": {},
   "outputs": [],
   "source": [
    "\n",
    "if 'Mobility' in df.columns:\n",
    "    plt.figure(figsize=(10,6))\n",
    "    sns.boxplot(data=df, x='Mobility', y='DL_bitrate')\n",
    "    plt.title(\"Downlink Throughput by Mobility\")\n",
    "    plt.show()\n",
    "\n",
    "    plt.figure(figsize=(10,6))\n",
    "    sns.boxplot(data=df, x='Mobility', y='PINGAVG')\n",
    "    plt.title(\"Latency by Mobility\")\n",
    "    plt.show()"
   ]
  },
  {
   "cell_type": "code",
   "execution_count": null,
   "id": "ff8d8314",
   "metadata": {},
   "outputs": [],
   "source": [
    "if 'NetworkTech' in df.columns:\n",
    "    print(\"Avg Throughput & Latency by NetworkTech\")\n",
    "    print(df.groupby('NetworkTech')[Targets].mean().round(2))\n",
    "\n",
    "if 'Operatorname' in df.columns:\n",
    "    print(\"Avg Throughput & Latency by Operator\")\n",
    "    print(df.groupby('Operatorname')[Targets].mean().round(2))\n",
    "\n",
    "if 'Mobility' in df.columns:\n",
    "    print(\"Avg Throughput & Latency by Mobility \")\n",
    "    print(df.groupby('Mobility')[Targets].mean().round(2))"
   ]
  }
 ],
 "metadata": {
  "language_info": {
   "name": "python"
  }
 },
 "nbformat": 4,
 "nbformat_minor": 5
}
